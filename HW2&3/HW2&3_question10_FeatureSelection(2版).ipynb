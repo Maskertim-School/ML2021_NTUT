{
 "cells": [
  {
   "cell_type": "code",
   "execution_count": 86,
   "metadata": {},
   "outputs": [],
   "source": [
    "import pandas as pd\n",
    "\n",
    "# read the breast-cancer-wisconsin dataset, also named bcw\n",
    "bcw = pd.read_csv(\"breast-cancer-wisconsin.data\", header=None)"
   ]
  },
  {
   "cell_type": "code",
   "execution_count": 87,
   "metadata": {},
   "outputs": [],
   "source": [
    "# remove the row data which contains NA\n",
    "arr = []\n",
    "for i in range(len(bcw)):\n",
    "    for j in range(len(bcw.columns)):\n",
    "        if(bcw.iloc[i,j]=='?'):\n",
    "            arr.append(i)\n",
    "            break\n",
    "bcw = bcw.drop(arr)\n",
    "# dataset features\n",
    "bcw_f = bcw.iloc[:,1:10]\n",
    "# dataset label\n",
    "bcw_l = bcw.iloc[:,-1]"
   ]
  },
  {
   "cell_type": "code",
   "execution_count": 88,
   "metadata": {},
   "outputs": [
    {
     "name": "stdout",
     "output_type": "stream",
     "text": [
      "   feature_idx       Score\n",
      "5            6  417.002945\n",
      "1            2  287.830939\n",
      "2            3  267.568825\n"
     ]
    }
   ],
   "source": [
    "from sklearn.model_selection import train_test_split\n",
    "from sklearn.feature_selection import SelectKBest, chi2\n",
    "\n",
    "# first split 0.6% train and 0.4% other datasets\n",
    "train_data, test_data, train_label, test_label = train_test_split(bcw_f, bcw_l, random_state=None, train_size=0.6)\n",
    "# then split 0.2% feature and 0.2% test datasets\n",
    "feature_data, test_data, feature_label, test_label = train_test_split(test_data, test_label, random_state=None, train_size=0.5)\n",
    "# extract top 3 best features\n",
    "selected_feature = SelectKBest(score_func=chi2, k=3).fit(feature_data, feature_label)\n",
    "scores = pd.DataFrame(selected_feature.scores_)\n",
    "columns = pd.DataFrame(bcw_f.columns)\n",
    "feature_scores= pd.concat([columns,scores],axis=1)\n",
    "feature_scores.columns= ['feature_idx','Score']\n",
    "print(feature_scores.nlargest(3,'Score'))"
   ]
  },
  {
   "cell_type": "code",
   "execution_count": 89,
   "metadata": {},
   "outputs": [
    {
     "name": "stdout",
     "output_type": "stream",
     "text": [
      "avg: 0.9635036496350364\n"
     ]
    }
   ],
   "source": [
    "from sklearn.neighbors import KNeighborsClassifier\n",
    "\n",
    "# avg of score\n",
    "avg = 0\n",
    "\n",
    "# run 10 times\n",
    "for i in range(10):\n",
    "    knn_3 = KNeighborsClassifier(n_neighbors = 3)\n",
    "    knn_3.fit(train_data, train_label)\n",
    "    avg = avg + knn_3.score(test_data, test_label)\n",
    "\n",
    "# get average of score\n",
    "print('avg:',avg/10)"
   ]
  }
 ],
 "metadata": {
  "kernelspec": {
   "display_name": "Python 3",
   "language": "python",
   "name": "python3"
  },
  "language_info": {
   "codemirror_mode": {
    "name": "ipython",
    "version": 3
   },
   "file_extension": ".py",
   "mimetype": "text/x-python",
   "name": "python",
   "nbconvert_exporter": "python",
   "pygments_lexer": "ipython3",
   "version": "3.8.5"
  }
 },
 "nbformat": 4,
 "nbformat_minor": 4
}
