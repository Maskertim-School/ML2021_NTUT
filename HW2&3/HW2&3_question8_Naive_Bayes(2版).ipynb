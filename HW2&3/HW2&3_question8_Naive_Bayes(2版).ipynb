{
 "cells": [
  {
   "cell_type": "code",
   "execution_count": 1,
   "metadata": {},
   "outputs": [],
   "source": [
    "import pandas as pd\n",
    "\n",
    "# read the iris dataset which is csv format\n",
    "col_names = [\"sepal_length\", \"sepal_width\", \"petal_length\", \"petal_width\", \"species\"]\n",
    "iris = pd.read_csv(\"iris.data\", header=None, names=col_names)"
   ]
  },
  {
   "cell_type": "code",
   "execution_count": 2,
   "metadata": {},
   "outputs": [],
   "source": [
    "# map iris class name to number\n",
    "iris_class = {'Iris-setosa':0, 'Iris-versicolor':1, 'Iris-virginica':2}\n",
    "iris['species_tag'] = [iris_class[i] for i in iris.species]"
   ]
  },
  {
   "cell_type": "code",
   "execution_count": 3,
   "metadata": {},
   "outputs": [],
   "source": [
    "#split data into attributes and target/label\n",
    "iris_attrs = iris.drop(['species','species_tag'], axis=1)\n",
    "iris_labels = iris.species_tag"
   ]
  },
  {
   "cell_type": "code",
   "execution_count": 4,
   "metadata": {},
   "outputs": [
    {
     "name": "stdout",
     "output_type": "stream",
     "text": [
      "avg: 0.9377777777777778\n"
     ]
    }
   ],
   "source": [
    "from sklearn.model_selection import train_test_split\n",
    "from sklearn.naive_bayes import GaussianNB\n",
    "\n",
    "# create GaussianNB\n",
    "gnb = GaussianNB()\n",
    "\n",
    "# avg of score\n",
    "avg = 0\n",
    "\n",
    "# run 10 times\n",
    "for i in range(10):\n",
    "    # split data into training and testing sets\n",
    "    train_data, test_data, train_label, test_label = train_test_split(iris_attrs, iris_labels,\n",
    "                                                                      random_state=None, train_size=0.7)\n",
    "    # fit the model on the training data\n",
    "    gnb.fit(train_data, train_label)\n",
    "    # see how the model preforms\n",
    "    avg = avg + gnb.score(test_data, test_label)\n",
    "\n",
    "# average accuracy\n",
    "print('avg:',avg/10)"
   ]
  }
 ],
 "metadata": {
  "kernelspec": {
   "display_name": "Python 3",
   "language": "python",
   "name": "python3"
  },
  "language_info": {
   "codemirror_mode": {
    "name": "ipython",
    "version": 3
   },
   "file_extension": ".py",
   "mimetype": "text/x-python",
   "name": "python",
   "nbconvert_exporter": "python",
   "pygments_lexer": "ipython3",
   "version": "3.8.5"
  }
 },
 "nbformat": 4,
 "nbformat_minor": 4
}
