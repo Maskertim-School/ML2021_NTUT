{
 "cells": [
  {
   "cell_type": "code",
   "execution_count": 130,
   "metadata": {},
   "outputs": [],
   "source": [
    "import pandas as pd\n",
    "\n",
    "# read the breast-cancer-wisconsin dataset, also named bcw\n",
    "bcw = pd.read_csv(\"breast-cancer-wisconsin.data\", header=None)"
   ]
  },
  {
   "cell_type": "code",
   "execution_count": 132,
   "metadata": {},
   "outputs": [],
   "source": [
    "# drop first column--code number\n",
    "bcw = bcw.iloc[:,1:11]\n",
    "# imputated by mean property\n",
    "for i in range(len(bcw)):\n",
    "    for j in range(len(bcw.columns)):\n",
    "        if(bcw.iloc[i,j]=='?'):\n",
    "            bcw.iloc[i,j]=None\n",
    "            bcw.iloc[i,j]=int(bcw.iloc[i].mean(skipna=True))\n",
    "            break\n",
    "# dataset features\n",
    "bcw_f = bcw.iloc[:,1:10]\n",
    "# dataset label\n",
    "bcw_l = bcw.iloc[:,-1]"
   ]
  },
  {
   "cell_type": "code",
   "execution_count": 133,
   "metadata": {},
   "outputs": [
    {
     "name": "stdout",
     "output_type": "stream",
     "text": [
      "   feature_idx       Score\n",
      "3            6  344.411260\n",
      "0            3  274.509074\n",
      "5            8  253.880282\n"
     ]
    }
   ],
   "source": [
    "from sklearn.model_selection import train_test_split\n",
    "from sklearn.feature_selection import SelectKBest, chi2\n",
    "\n",
    "# first split 0.6% train and 0.4% other datasets\n",
    "train_data, test_data, train_label, test_label = train_test_split(bcw_f, bcw_l, \n",
    "                                                                  random_state=None, train_size=0.6)\n",
    "# then split 0.2% feature and 0.2% test datasets\n",
    "feature_data, test_data, feature_label, test_label = train_test_split(test_data, test_label, \n",
    "                                                                      random_state=None, train_size=0.5)\n",
    "# extract top 3 best features\n",
    "selected_feature = SelectKBest(score_func=chi2, k=3).fit(feature_data, feature_label)\n",
    "scores = pd.DataFrame(selected_feature.scores_)\n",
    "columns = pd.DataFrame(bcw_f.columns)\n",
    "feature_scores= pd.concat([columns,scores],axis=1)\n",
    "feature_scores.columns= ['feature_idx','Score']\n",
    "print(feature_scores.nlargest(3,'Score'))\n",
    "# reconstruct the train and test data with selected features\n",
    "train_selected_data = selected_feature.transform(train_data)\n",
    "test_selected_data = selected_feature.transform(test_data)"
   ]
  },
  {
   "cell_type": "code",
   "execution_count": 134,
   "metadata": {},
   "outputs": [
    {
     "name": "stdout",
     "output_type": "stream",
     "text": [
      "avg: 0.9714285714285713\n"
     ]
    }
   ],
   "source": [
    "from sklearn.neighbors import KNeighborsClassifier\n",
    "\n",
    "# avg of score\n",
    "avg = 0\n",
    "\n",
    "# run 10 times\n",
    "for i in range(10):\n",
    "    knn_3 = KNeighborsClassifier(n_neighbors = 3)\n",
    "    knn_3.fit(train_selected_data, train_label)\n",
    "    avg = avg + knn_3.score(test_selected_data, test_label)\n",
    "\n",
    "# get average of score\n",
    "print('avg:',avg/10)"
   ]
  }
 ],
 "metadata": {
  "kernelspec": {
   "display_name": "Python 3",
   "language": "python",
   "name": "python3"
  },
  "language_info": {
   "codemirror_mode": {
    "name": "ipython",
    "version": 3
   },
   "file_extension": ".py",
   "mimetype": "text/x-python",
   "name": "python",
   "nbconvert_exporter": "python",
   "pygments_lexer": "ipython3",
   "version": "3.8.5"
  }
 },
 "nbformat": 4,
 "nbformat_minor": 4
}
