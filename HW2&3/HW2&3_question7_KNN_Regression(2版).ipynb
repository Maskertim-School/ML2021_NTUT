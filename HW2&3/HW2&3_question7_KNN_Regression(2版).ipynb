{
 "cells": [
  {
   "cell_type": "code",
   "execution_count": 8,
   "metadata": {},
   "outputs": [],
   "source": [
    "import pandas as pd\n",
    "\n",
    "# read the iris dataset which is csv format\n",
    "col_names = [\"sepal_length\", \"sepal_width\", \"petal_length\", \"petal_width\",\"species\"]\n",
    "iris = pd.read_csv(\"iris.data\", header=None, names=col_names)"
   ]
  },
  {
   "cell_type": "code",
   "execution_count": 9,
   "metadata": {},
   "outputs": [],
   "source": [
    "#split data into attributes and target/label\n",
    "iris_attrs = iris.drop(['petal_width','species'], axis=1)\n",
    "iris_labels = iris.petal_width"
   ]
  },
  {
   "cell_type": "code",
   "execution_count": 11,
   "metadata": {},
   "outputs": [
    {
     "name": "stdout",
     "output_type": "stream",
     "text": [
      "avg of MSE 0.03751805248738778\n"
     ]
    }
   ],
   "source": [
    "from sklearn.model_selection import train_test_split\n",
    "from sklearn.neighbors import KNeighborsRegressor\n",
    "from sklearn.metrics import mean_squared_error\n",
    "\n",
    "avg = 0\n",
    "# run 10 times\n",
    "for i in range(10):\n",
    "    # split data into training and testing sets\n",
    "    train_data, test_data, train_label, test_label = train_test_split(iris_attrs, iris_labels,\n",
    "                                                                  random_state=None, train_size=0.7)\n",
    "    # set 5 neighbors of knn\n",
    "    knn = KNeighborsRegressor(n_neighbors = 5, weights='distance')\n",
    "    # fit the model on the training data\n",
    "    knn.fit(train_data, train_label)\n",
    "    # make prediction\n",
    "    knn_pred = knn.predict(test_data)\n",
    "    # calculate by Mean square error\n",
    "    error = mean_squared_error(test_label,knn_pred)\n",
    "    avg = avg + error\n",
    "\n",
    "# average accuracy and best-fit of k-neighbor\n",
    "print('avg of MSE',avg/10)"
   ]
  }
 ],
 "metadata": {
  "kernelspec": {
   "display_name": "Python 3",
   "language": "python",
   "name": "python3"
  },
  "language_info": {
   "codemirror_mode": {
    "name": "ipython",
    "version": 3
   },
   "file_extension": ".py",
   "mimetype": "text/x-python",
   "name": "python",
   "nbconvert_exporter": "python",
   "pygments_lexer": "ipython3",
   "version": "3.8.5"
  }
 },
 "nbformat": 4,
 "nbformat_minor": 4
}
