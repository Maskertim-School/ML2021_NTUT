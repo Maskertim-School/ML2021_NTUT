{
 "cells": [
  {
   "cell_type": "code",
   "execution_count": 1,
   "id": "96ba2dbe",
   "metadata": {},
   "outputs": [],
   "source": [
    "from tensorflow import keras\n",
    "import tensorflow as tf\n",
    "\n",
    "\n",
    "# read mnist dataset\n",
    "(train_x, train_y), (test_x, test_y) = keras.datasets.mnist.load_data()\n",
    "# normalized 0~1\n",
    "train_x = train_x / 255.0\n",
    "test_x = test_x / 255.0\n",
    "# expand dimension\n",
    "train_x = tf.expand_dims(train_x, 3)\n",
    "test_x = tf.expand_dims(test_x, 3)\n",
    "# one-hot encoding\n",
    "train_y = keras.utils.to_categorical(train_y)\n",
    "test_y = keras.utils.to_categorical(test_y)"
   ]
  },
  {
   "cell_type": "code",
   "execution_count": 5,
   "id": "7cad8971",
   "metadata": {},
   "outputs": [
    {
     "name": "stdout",
     "output_type": "stream",
     "text": [
      "Epoch 1/5\n",
      "1875/1875 [==============================] - 16s 8ms/step - loss: 0.2246 - accuracy: 0.9330\n",
      "Epoch 2/5\n",
      "1875/1875 [==============================] - 16s 8ms/step - loss: 0.0844 - accuracy: 0.9740\n",
      "Epoch 3/5\n",
      "1875/1875 [==============================] - 15s 8ms/step - loss: 0.0573 - accuracy: 0.9828\n",
      "Epoch 4/5\n",
      "1875/1875 [==============================] - 16s 8ms/step - loss: 0.0437 - accuracy: 0.9857\n",
      "Epoch 5/5\n",
      "1875/1875 [==============================] - 16s 8ms/step - loss: 0.0356 - accuracy: 0.9890\n",
      "313/313 [==============================] - 1s 4ms/step - loss: 0.0456 - accuracy: 0.9857\n",
      "test loss: 0.04555569216609001 test accuracy: 0.9857000112533569\n"
     ]
    }
   ],
   "source": [
    "# Lenet-5 model\n",
    "lenet_5_model = keras.models.Sequential([\n",
    "    keras.layers.Conv2D(6, kernel_size=5, strides=1,  activation='tanh', input_shape=train_x[0].shape, padding='same'), #Conv layer 1\n",
    "    keras.layers.AveragePooling2D(), #Pool layer 2\n",
    "    keras.layers.Conv2D(16, kernel_size=5, strides=1, activation='tanh', padding='valid'), #Conv layer 3\n",
    "    keras.layers.AveragePooling2D(), #Pool layer 4\n",
    "    keras.layers.Flatten(), #Flatten\n",
    "    keras.layers.Dense(120, activation='tanh'), #Full layer 5\n",
    "    keras.layers.Dense(84, activation='tanh'), #Full layer 6\n",
    "    keras.layers.Dense(10, activation='softmax') # Output layer\n",
    "])\n",
    "\n",
    "# build model\n",
    "lenet_5_model.compile(optimizer='adam', loss='categorical_crossentropy', metrics=['accuracy'])\n",
    "# train model\n",
    "lenet_5_model.fit(train_x, train_y, epochs=5, verbose=1)\n",
    "# predict label and calculate accuracy\n",
    "test_loss, test_accuracy = lenet_5_model.evaluate(test_x, test_y)\n",
    "print('test loss:', test_loss,'test accuracy:', test_accuracy)"
   ]
  }
 ],
 "metadata": {
  "kernelspec": {
   "display_name": "Python 3",
   "language": "python",
   "name": "python3"
  },
  "language_info": {
   "codemirror_mode": {
    "name": "ipython",
    "version": 3
   },
   "file_extension": ".py",
   "mimetype": "text/x-python",
   "name": "python",
   "nbconvert_exporter": "python",
   "pygments_lexer": "ipython3",
   "version": "3.9.2"
  }
 },
 "nbformat": 4,
 "nbformat_minor": 5
}
