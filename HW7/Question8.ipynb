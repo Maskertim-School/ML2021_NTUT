{
 "cells": [
  {
   "cell_type": "code",
   "execution_count": 3,
   "id": "b5798dc1",
   "metadata": {},
   "outputs": [
    {
     "name": "stdout",
     "output_type": "stream",
     "text": [
      "(177, 14)\n"
     ]
    }
   ],
   "source": [
    "import pandas as pd\n",
    "from sklearn.model_selection import train_test_split\n",
    "import numpy as np\n",
    "from sklearn.linear_model import LogisticRegression\n",
    "\n",
    "# read dataset\n",
    "df = pd.read_csv('wine.data')\n",
    "print(df.shape)\n",
    "x = df.iloc[:,1:].to_numpy()\n",
    "y = df.iloc[:,0].to_numpy()\n",
    "\n",
    "# split train and test dataset\n",
    "X_train, X_test, y_train, y_test = train_test_split(x, y, test_size=0.3, random_state=42)"
   ]
  },
  {
   "cell_type": "code",
   "execution_count": 13,
   "id": "194a2299",
   "metadata": {},
   "outputs": [
    {
     "name": "stdout",
     "output_type": "stream",
     "text": [
      "average of accuracy using liblinear 0.9444444444444444\n"
     ]
    }
   ],
   "source": [
    "# sum of accuracy\n",
    "sum_acc1 = 0.0\n",
    "# build logistic-- no convergence problem: newton-cg, liblinear | have problem: sage,sag,lbfgs\n",
    "lr = LogisticRegression(solver='liblinear')\n",
    "for _ in range(10):\n",
    "    # train model\n",
    "    lr.fit(X_train, y_train)\n",
    "    # cal score of model (accuracy)\n",
    "    score = lr.score(X_test, y_test)\n",
    "    sum_acc1=sum_acc1+score\n",
    "# average of acc\n",
    "avg_acc = sum_acc1/10\n",
    "print('average of accuracy using liblinear',avg_acc)"
   ]
  },
  {
   "cell_type": "code",
   "execution_count": 14,
   "id": "c78b7a26",
   "metadata": {},
   "outputs": [
    {
     "name": "stdout",
     "output_type": "stream",
     "text": [
      "average of accuracy using newton-cg 0.9444444444444444\n"
     ]
    }
   ],
   "source": [
    "# sum of accuracy\n",
    "sum_acc2 = 0.0\n",
    "lr = LogisticRegression(solver='newton-cg')\n",
    "for _ in range(10):\n",
    "    # train model\n",
    "    lr.fit(X_train, y_train)\n",
    "    # cal score of model (accuracy)\n",
    "    score = lr.score(X_test, y_test)\n",
    "    sum_acc2=sum_acc2+score\n",
    "# average of acc\n",
    "avg_acc = sum_acc2/10\n",
    "print('average of accuracy using newton-cg',avg_acc)"
   ]
  }
 ],
 "metadata": {
  "kernelspec": {
   "display_name": "Python 3",
   "language": "python",
   "name": "python3"
  },
  "language_info": {
   "codemirror_mode": {
    "name": "ipython",
    "version": 3
   },
   "file_extension": ".py",
   "mimetype": "text/x-python",
   "name": "python",
   "nbconvert_exporter": "python",
   "pygments_lexer": "ipython3",
   "version": "3.9.2"
  }
 },
 "nbformat": 4,
 "nbformat_minor": 5
}
