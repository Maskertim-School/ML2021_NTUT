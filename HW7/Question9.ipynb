{
 "cells": [
  {
   "cell_type": "code",
   "execution_count": null,
   "id": "fec488b2",
   "metadata": {},
   "outputs": [],
   "source": [
    "from keras.models import Sequential\n",
    "from keras.layers import Dense\n",
    "import pandas as pd\n",
    "from sklearn.model_selection import train_test_split\n",
    "\n",
    "# read dataset\n",
    "df = pd.read_csv('wine.data')\n",
    "print(df.shape)\n",
    "x = df.iloc[:,1:].to_numpy()\n",
    "y = df.iloc[:,0].to_numpy()\n",
    "\n",
    "# split train and test dataset\n",
    "X_train, X_test, y_train, y_test = train_test_split(x, y, test_size=0.3, random_state=42)"
   ]
  },
  {
   "cell_type": "code",
   "execution_count": 27,
   "id": "822575fa",
   "metadata": {},
   "outputs": [
    {
     "name": "stdout",
     "output_type": "stream",
     "text": [
      "round: 1\n",
      "2/2 [==============================] - 0s 2ms/step - loss: 0.0000e+00 - accuracy: 0.3519\n",
      "round: 2\n",
      "2/2 [==============================] - 0s 2ms/step - loss: 0.0000e+00 - accuracy: 0.3519\n",
      "round: 3\n",
      "2/2 [==============================] - 0s 2ms/step - loss: 0.0000e+00 - accuracy: 0.3519\n",
      "round: 4\n",
      "2/2 [==============================] - 0s 2ms/step - loss: 0.0000e+00 - accuracy: 0.3519\n",
      "round: 5\n",
      "2/2 [==============================] - 0s 2ms/step - loss: 0.0000e+00 - accuracy: 0.3519\n",
      "round: 6\n",
      "2/2 [==============================] - 1s 5ms/step - loss: 0.0000e+00 - accuracy: 0.3519\n",
      "round: 7\n",
      "2/2 [==============================] - 0s 2ms/step - loss: 0.0000e+00 - accuracy: 0.3519\n",
      "round: 8\n",
      "2/2 [==============================] - 1s 2ms/step - loss: 0.0000e+00 - accuracy: 0.3519\n",
      "round: 9\n",
      "2/2 [==============================] - 1s 2ms/step - loss: 0.0000e+00 - accuracy: 0.3519\n",
      "round: 10\n",
      "2/2 [==============================] - 1s 2ms/step - loss: 0.0000e+00 - accuracy: 0.3519\n",
      "average accuracy: 0.35185185074806213\n"
     ]
    }
   ],
   "source": [
    "sum_accuracy = 0.0\n",
    "network = Sequential();\n",
    "for i in range(1,11):\n",
    "    print('round:',i)\n",
    "    network.add(Dense(units=10*i, activation='relu',input_dim=13))\n",
    "    network.add(Dense(units=1, activation='softmax'))\n",
    "    network.compile(optimizer='adam', loss='categorical_crossentropy',metrics=['accuracy'])\n",
    "    network.fit(X_train, y_train, epochs=10, batch_size=20, verbose=0)\n",
    "    test_loss, test_accuracy = network.evaluate(X_test, y_test)\n",
    "    sum_accuracy = test_accuracy+sum_accuracy\n",
    "# take average\n",
    "average_acc = sum_accuracy/10\n",
    "print('average accuracy:',average_acc)"
   ]
  }
 ],
 "metadata": {
  "kernelspec": {
   "display_name": "Python 3",
   "language": "python",
   "name": "python3"
  },
  "language_info": {
   "codemirror_mode": {
    "name": "ipython",
    "version": 3
   },
   "file_extension": ".py",
   "mimetype": "text/x-python",
   "name": "python",
   "nbconvert_exporter": "python",
   "pygments_lexer": "ipython3",
   "version": "3.9.2"
  }
 },
 "nbformat": 4,
 "nbformat_minor": 5
}
