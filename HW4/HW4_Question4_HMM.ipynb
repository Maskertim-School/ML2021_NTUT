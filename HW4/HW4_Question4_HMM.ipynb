{
 "cells": [
  {
   "cell_type": "code",
   "execution_count": 22,
   "metadata": {},
   "outputs": [],
   "source": [
    "import numpy as np\n",
    "import matplotlib.pyplot as plt\n",
    "\n",
    "from hmmlearn import hmm\n",
    "\n",
    "zip = np.load('HMM_data.npz')\n",
    "X1_train = zip['arr_0'] # training sequence for 1st HMM\n",
    "X2_train = zip['arr_1'] # training sequence for 2nd HMM\n",
    "test_1 = zip['arr_2'] # two test sequences\n",
    "test_2 = zip['arr_3']\n",
    "\n",
    "# Create two models to be trained ...\n",
    "testHMM1 = hmm.MultinomialHMM(n_components=3,n_iter=100) # number of states is actually unknown, we assume we know it\n",
    "testHMM2 = hmm.MultinomialHMM(n_components=3,n_iter=100) # number of states is actually unknown, we assume we know it"
   ]
  },
  {
   "cell_type": "code",
   "execution_count": 23,
   "metadata": {},
   "outputs": [
    {
     "data": {
      "text/plain": [
       "MultinomialHMM(n_components=3, n_iter=100,\n",
       "               random_state=RandomState(MT19937) at 0x7FA72C925240)"
      ]
     },
     "execution_count": 23,
     "metadata": {},
     "output_type": "execute_result"
    }
   ],
   "source": [
    "# Perform HMM training\n",
    "testHMM1.fit(X1_train)\n",
    "testHMM2.fit(X2_train)"
   ]
  },
  {
   "cell_type": "code",
   "execution_count": 24,
   "metadata": {},
   "outputs": [
    {
     "name": "stdout",
     "output_type": "stream",
     "text": [
      "test1 score in HMM1: -70.11427560700874\n",
      "test1 best state sequence in HMM1: [2 0 2 0 0 2 0 2 2 2 0 2 2 0 1 0 0 2 0 2 0 1 0 2 0 0 2 2 0 2 2 2 0 2 2 2 2\n",
      " 2 0 1 0 1 0 2 2 2 2 2 2 0 2 0 2 2 2 0 2 0 2 2 0 1 0 1 0 0 2 0 1 0 1 0 0 2\n",
      " 2 0 2 2 0 2 0 2 2 2 2 0 1 0 0 2 0 1 0 2 0 0 1 0 2 0]\n",
      "test2 score in HMM1: -53.49819411441823\n",
      "test2 best state sequence in HMM1: [2 0 1 0 2 0 2 0 0 2 2 2 2 2 0 2 2 0 2 2 2 0 2 2 0 2 2 0 1 0 0 2 0 2 2 2 2\n",
      " 0 1 0 0 2 2 2 0 2 0 2 0 1 0 2 2 2 2 2 2 2 2 0 2 2 2 2 0 0 2 2 2 2 0 2 0 2\n",
      " 2]\n",
      "test1 score in HMM2: -72.55343352860794\n",
      "test1 best state sequence in HMM2: [0 0 2 0 0 2 0 2 2 2 0 2 2 0 0 0 0 2 0 2 0 0 0 2 0 0 2 2 0 2 2 2 0 2 2 2 2\n",
      " 2 0 0 0 0 0 2 2 2 2 2 2 0 2 0 2 2 2 0 2 0 2 2 0 0 0 0 0 0 2 0 0 0 0 0 0 2\n",
      " 2 0 2 2 0 2 0 2 2 2 2 0 0 0 0 2 0 0 0 2 0 0 0 0 2 0]\n",
      "test2 score in HMM2: -50.355379429247876\n",
      "test2 best state sequence in HMM2: [0 0 0 0 2 0 2 0 0 2 2 2 2 2 0 2 2 0 2 2 2 0 2 2 0 2 2 0 0 0 0 2 0 2 2 2 2\n",
      " 0 0 0 0 2 2 2 0 2 0 2 0 0 0 2 2 2 2 2 2 2 2 0 2 2 2 2 0 0 2 2 2 2 0 2 0 2\n",
      " 2]\n"
     ]
    }
   ],
   "source": [
    "# Perform HMM test and print the class of each test sequence here ...\n",
    "print('test1 score in HMM1:',testHMM1.score(test_1))\n",
    "print('test1 best state sequence in HMM1:',testHMM1.predict(test_1))\n",
    "print('test2 score in HMM1:',testHMM1.score(test_2))\n",
    "print('test2 best state sequence in HMM1:',testHMM1.predict(test_2))\n",
    "print('test1 score in HMM2:',testHMM2.score(test_1))\n",
    "print('test1 best state sequence in HMM2:',testHMM2.predict(test_1))\n",
    "print('test2 score in HMM2:',testHMM2.score(test_2))\n",
    "print('test2 best state sequence in HMM2:',testHMM2.predict(test_2))"
   ]
  }
 ],
 "metadata": {
  "kernelspec": {
   "display_name": "Python 3",
   "language": "python",
   "name": "python3"
  },
  "language_info": {
   "codemirror_mode": {
    "name": "ipython",
    "version": 3
   },
   "file_extension": ".py",
   "mimetype": "text/x-python",
   "name": "python",
   "nbconvert_exporter": "python",
   "pygments_lexer": "ipython3",
   "version": "3.8.5"
  }
 },
 "nbformat": 4,
 "nbformat_minor": 4
}
