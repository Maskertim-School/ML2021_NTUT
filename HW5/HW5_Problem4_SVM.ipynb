{
 "cells": [
  {
   "cell_type": "code",
   "execution_count": 37,
   "metadata": {},
   "outputs": [],
   "source": [
    "import pandas as pd\n",
    "# read the dataset\n",
    "bcw = pd.read_csv(\"breast-cancer-wisconsin.data\", header=None)"
   ]
  },
  {
   "cell_type": "code",
   "execution_count": 58,
   "metadata": {},
   "outputs": [],
   "source": [
    "# drop first column--code number\n",
    "bcw_new = bcw.iloc[:,1:11]\n",
    "# imputated by mean property\n",
    "for i in range(len(bcw_new)):\n",
    "    for j in range(len(bcw_new.columns)):\n",
    "        if(bcw_new.iloc[i,j]=='?'):\n",
    "            bcw_new.iloc[i,j]=None\n",
    "            bcw_new.iloc[i,j]=int(bcw_new.iloc[i].mean(skipna=True))\n",
    "            break\n",
    "# dataset features\n",
    "bcw_f = bcw_new.iloc[:,:9]\n",
    "# dataset label\n",
    "bcw_l = bcw_new.iloc[:,-1]"
   ]
  },
  {
   "cell_type": "code",
   "execution_count": 59,
   "metadata": {},
   "outputs": [],
   "source": [
    "from sklearn.model_selection import train_test_split\n",
    "from sklearn.svm import SVC\n",
    "\n",
    "# first split 0.7 train dataset and 0.3 test dataset\n",
    "train_data, test_data, train_label, test_label = train_test_split(bcw_f, bcw_l,\n",
    "                                                                  random_state=None, train_size=0.7)\n",
    "L2 = 0\n",
    "avg = 0\n",
    "avg_train = []\n",
    "avg_test = []\n",
    "L2_list = []\n",
    "for _ in range(50):\n",
    "    if L2 < 3.0:\n",
    "        L2 = L2 + 0.1\n",
    "        L2_list.append(L2)\n",
    "    # Create a SVC classifier using an RBF kernel\n",
    "    svm = SVC(kernel='rbf', random_state=0, gamma=.01, C=L2)\n",
    "    # Train the classifier\n",
    "    svm.fit(train_data, train_label)\n",
    "    # mean average\n",
    "    avg = avg + svm.score(test_data, test_label)\n",
    "    # the information of accuracy of train and test between L2=0.1~3.0\n",
    "    if len(avg_train) < 30:\n",
    "        avg_train.append(svm.score(train_data, train_label))\n",
    "        avg_test.append(svm.score(test_data, test_label))"
   ]
  },
  {
   "cell_type": "code",
   "execution_count": 60,
   "metadata": {},
   "outputs": [
    {
     "name": "stdout",
     "output_type": "stream",
     "text": [
      "0.9738095238095222\n"
     ]
    }
   ],
   "source": [
    "avg = avg/50\n",
    "print(avg)"
   ]
  },
  {
   "cell_type": "code",
   "execution_count": 61,
   "metadata": {},
   "outputs": [
    {
     "data": {
      "text/plain": [
       "Text(0, 0.5, 'Average (Train)')"
      ]
     },
     "execution_count": 61,
     "metadata": {},
     "output_type": "execute_result"
    },
    {
     "data": {
      "image/png": "[encoded data removed]",
      "text/plain": [
       "<Figure size 432x288 with 1 Axes>"
      ]
     },
     "metadata": {
      "needs_background": "light"
     },
     "output_type": "display_data"
    }
   ],
   "source": [
    "from matplotlib import pyplot as plt\n",
    "%matplotlib inline\n",
    "# train avg plot\n",
    "plt.plot(L2_list, avg_train, color='b', linewidth=3)\n",
    "plt.xlabel('C--L2 regularization')\n",
    "plt.ylabel('Average (Train)')"
   ]
  },
  {
   "cell_type": "code",
   "execution_count": 62,
   "metadata": {},
   "outputs": [
    {
     "data": {
      "text/plain": [
       "Text(0, 0.5, 'Average (Test)')"
      ]
     },
     "execution_count": 62,
     "metadata": {},
     "output_type": "execute_result"
    },
    {
     "data": {
      "image/png": "[encoded data removed]",
      "text/plain": [
       "<Figure size 432x288 with 1 Axes>"
      ]
     },
     "metadata": {
      "needs_background": "light"
     },
     "output_type": "display_data"
    }
   ],
   "source": [
    "# test avg plot\n",
    "plt.plot(L2_list, avg_test, color='b', linewidth=3)\n",
    "plt.xlabel('C--L2 regularization')\n",
    "plt.ylabel('Average (Test)')"
   ]
  }
 ],
 "metadata": {
  "kernelspec": {
   "display_name": "Python 3",
   "language": "python",
   "name": "python3"
  },
  "language_info": {
   "codemirror_mode": {
    "name": "ipython",
    "version": 3
   },
   "file_extension": ".py",
   "mimetype": "text/x-python",
   "name": "python",
   "nbconvert_exporter": "python",
   "pygments_lexer": "ipython3",
   "version": "3.8.5"
  }
 },
 "nbformat": 4,
 "nbformat_minor": 4
}
